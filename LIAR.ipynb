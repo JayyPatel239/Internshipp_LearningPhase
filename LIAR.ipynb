{
 "cells": [
  {
   "cell_type": "code",
   "execution_count": 2,
   "id": "962520f7-bd06-48e9-8649-c0cad0118765",
   "metadata": {},
   "outputs": [],
   "source": [
    "import zipfile\n",
    "\n",
    "with zipfile.ZipFile('liardataset.zip', 'r') as zip_ref:\n",
    "    zip_ref.extractall('liar_dataset') \n"
   ]
  },
  {
   "cell_type": "code",
   "execution_count": 3,
   "id": "ff44214a-bf8f-4c0d-a62d-1a6011cb4b59",
   "metadata": {},
   "outputs": [
    {
     "data": {
      "text/plain": [
       "['.ipynb_checkpoints', 'README', 'test.tsv', 'train.tsv', 'valid.tsv']"
      ]
     },
     "execution_count": 3,
     "metadata": {},
     "output_type": "execute_result"
    }
   ],
   "source": [
    "import os\n",
    "os.listdir(\"liar_dataset\")\n"
   ]
  },
  {
   "cell_type": "code",
   "execution_count": 4,
   "id": "f52b5052-af6a-4d9e-8eb0-044baf5e359e",
   "metadata": {},
   "outputs": [],
   "source": [
    "import pandas as pd\n",
    "train_df=pd.read_csv(\"liar_dataset/train.tsv\",sep=\"\\t\",header=None)\n",
    "valid_df=pd.read_csv(\"liar_dataset/valid.tsv\",sep=\"\\t\",header=None)\n",
    "test_df=pd.read_csv(\"liar_dataset/test.tsv\",sep=\"\\t\",header=None)\n"
   ]
  },
  {
   "cell_type": "code",
   "execution_count": 5,
   "id": "97dec0d6-ac1c-4f2f-a5d1-625600ee4bc6",
   "metadata": {},
   "outputs": [],
   "source": [
    "df=pd.concat([train_df,valid_df,test_df],ignore_index=True)"
   ]
  },
  {
   "cell_type": "code",
   "execution_count": 6,
   "id": "e6bf619a-4be2-4d96-b964-4b2dd0b73214",
   "metadata": {},
   "outputs": [],
   "source": [
    "\n",
    "df.columns = [\n",
    "    'id', 'label', 'statement', 'subject', 'speaker',\n",
    "    'speaker_job_title', 'state_info', 'party_affiliation',\n",
    "    'barely_true_counts', 'false_counts', 'half_true_counts',\n",
    "    'mostly_true_counts', 'pants_on_fire_counts', 'context'\n",
    "]\n"
   ]
  },
  {
   "cell_type": "code",
   "execution_count": 7,
   "id": "529db9ed-d946-4230-a8c0-1918e7324cc8",
   "metadata": {},
   "outputs": [
    {
     "name": "stdout",
     "output_type": "stream",
     "text": [
      "(12791, 14)\n"
     ]
    }
   ],
   "source": [
    "print(df.shape)"
   ]
  },
  {
   "cell_type": "code",
   "execution_count": 8,
   "id": "1514a178-881b-4b2b-886b-c7a50eea3bb3",
   "metadata": {},
   "outputs": [
    {
     "name": "stdout",
     "output_type": "stream",
     "text": [
      "Index(['id', 'label', 'statement', 'subject', 'speaker', 'speaker_job_title',\n",
      "       'state_info', 'party_affiliation', 'barely_true_counts', 'false_counts',\n",
      "       'half_true_counts', 'mostly_true_counts', 'pants_on_fire_counts',\n",
      "       'context'],\n",
      "      dtype='object')\n"
     ]
    }
   ],
   "source": [
    "print(df.columns)"
   ]
  },
  {
   "cell_type": "code",
   "execution_count": 9,
   "id": "5740bc53-63fb-4002-9ac6-e178e9de235d",
   "metadata": {},
   "outputs": [
    {
     "name": "stdout",
     "output_type": "stream",
     "text": [
      "           id        label                                          statement  \\\n",
      "0   2635.json        false  Says the Annies List political group supports ...   \n",
      "1  10540.json    half-true  When did the decline of coal start? It started...   \n",
      "2    324.json  mostly-true  Hillary Clinton agrees with John McCain \"by vo...   \n",
      "3   1123.json        false  Health care reform legislation is likely to ma...   \n",
      "4   9028.json    half-true  The economic turnaround started at the end of ...   \n",
      "\n",
      "                              subject         speaker     speaker_job_title  \\\n",
      "0                            abortion    dwayne-bohac  State representative   \n",
      "1  energy,history,job-accomplishments  scott-surovell        State delegate   \n",
      "2                      foreign-policy    barack-obama             President   \n",
      "3                         health-care    blog-posting                   NaN   \n",
      "4                        economy,jobs   charlie-crist                   NaN   \n",
      "\n",
      "  state_info party_affiliation  barely_true_counts  false_counts  \\\n",
      "0      Texas        republican                 0.0           1.0   \n",
      "1   Virginia          democrat                 0.0           0.0   \n",
      "2   Illinois          democrat                70.0          71.0   \n",
      "3        NaN              none                 7.0          19.0   \n",
      "4    Florida          democrat                15.0           9.0   \n",
      "\n",
      "   half_true_counts  mostly_true_counts  pants_on_fire_counts  \\\n",
      "0               0.0                 0.0                   0.0   \n",
      "1               1.0                 1.0                   0.0   \n",
      "2             160.0               163.0                   9.0   \n",
      "3               3.0                 5.0                  44.0   \n",
      "4              20.0                19.0                   2.0   \n",
      "\n",
      "               context  \n",
      "0             a mailer  \n",
      "1      a floor speech.  \n",
      "2               Denver  \n",
      "3       a news release  \n",
      "4  an interview on CNN  \n",
      "               id        label  \\\n",
      "12786   7334.json    half-true   \n",
      "12787   9788.json  barely-true   \n",
      "12788  10710.json  barely-true   \n",
      "12789   3186.json  barely-true   \n",
      "12790   6743.json        false   \n",
      "\n",
      "                                               statement  \\\n",
      "12786  Says his budget provides the highest state fun...   \n",
      "12787                    Ive been here almost every day.   \n",
      "12788  In the early 1980s, Sen. Edward Kennedy secret...   \n",
      "12789  Says an EPA permit languished under Strickland...   \n",
      "12790  Says the governor is going around the state ta...   \n",
      "\n",
      "                                              subject                speaker  \\\n",
      "12786                                       education             rick-scott   \n",
      "12787             civil-rights,crime,criminal-justice              jay-nixon   \n",
      "12788  bipartisanship,congress,foreign-policy,history  mackubin-thomas-owens   \n",
      "12789               environment,government-efficiency            john-kasich   \n",
      "12790               state-budget,state-finances,taxes       john-burzichelli   \n",
      "\n",
      "                                      speaker_job_title    state_info  \\\n",
      "12786                                          Governor       Florida   \n",
      "12787                                          Governor      Missouri   \n",
      "12788  senior fellow, Foreign Policy Research Institute  Rhode Island   \n",
      "12789              Governor of Ohio as of Jan. 10, 2011          Ohio   \n",
      "12790                                               NaN           NaN   \n",
      "\n",
      "      party_affiliation  barely_true_counts  false_counts  half_true_counts  \\\n",
      "12786        republican                28.0          23.0              38.0   \n",
      "12787          democrat                 2.0           0.0               0.0   \n",
      "12788         columnist                 1.0           0.0               0.0   \n",
      "12789        republican                 9.0           8.0              10.0   \n",
      "12790          democrat                 1.0           1.0               0.0   \n",
      "\n",
      "       mostly_true_counts  pants_on_fire_counts  \\\n",
      "12786                34.0                   7.0   \n",
      "12787                 1.0                   0.0   \n",
      "12788                 0.0                   0.0   \n",
      "12789                18.0                   3.0   \n",
      "12790                 0.0                   0.0   \n",
      "\n",
      "                                      context  \n",
      "12786                       a news conference  \n",
      "12787                    on ABC's \"This Week\"  \n",
      "12788  a commentary in The Providence Journal  \n",
      "12789                       a news conference  \n",
      "12790               an interview with NJToday  \n"
     ]
    }
   ],
   "source": [
    "print(df.head())\n",
    "print(df.tail())\n"
   ]
  },
  {
   "cell_type": "code",
   "execution_count": 10,
   "id": "c27c3302-3b99-4693-908f-fca38e9b50e3",
   "metadata": {},
   "outputs": [],
   "source": [
    "fake_labels = ['pants-fire', 'false', 'barely-true', 'half-true']\n",
    "real_labels = ['mostly-true', 'true']\n",
    "\n",
    "df['binary_label'] = df['label'].apply(lambda x: 1 if x in fake_labels else 0)\n"
   ]
  },
  {
   "cell_type": "code",
   "execution_count": 11,
   "id": "1a443c9b-c42e-4da6-872f-9e6ba77d8fef",
   "metadata": {},
   "outputs": [
    {
     "data": {
      "text/plain": [
       "id                         0\n",
       "label                      0\n",
       "statement                  0\n",
       "subject                    2\n",
       "speaker                    2\n",
       "speaker_job_title       3568\n",
       "state_info              2751\n",
       "party_affiliation          2\n",
       "barely_true_counts         2\n",
       "false_counts               2\n",
       "half_true_counts           2\n",
       "mostly_true_counts         2\n",
       "pants_on_fire_counts       2\n",
       "context                  131\n",
       "binary_label               0\n",
       "dtype: int64"
      ]
     },
     "execution_count": 11,
     "metadata": {},
     "output_type": "execute_result"
    }
   ],
   "source": [
    "df.isnull().sum()"
   ]
  },
  {
   "cell_type": "code",
   "execution_count": 12,
   "id": "9a49c274-4816-46e9-9aa0-91941ded821c",
   "metadata": {},
   "outputs": [],
   "source": [
    "df.fillna({\n",
    "    'speaker_job_title': 'Unknown',\n",
    "    'state_info': 'Unknown',\n",
    "    'context': 'Unknown',\n",
    "    'subject': 'Unknown',\n",
    "    'speaker': 'Unknown',\n",
    "    'party_affiliation': 'Unknown'\n",
    "}, inplace=True)\n"
   ]
  },
  {
   "cell_type": "code",
   "execution_count": 13,
   "id": "52a4541e-7e89-432f-b054-3518906bb0b5",
   "metadata": {},
   "outputs": [],
   "source": [
    "count_columns = [\n",
    "    'barely_true_counts',\n",
    "    'false_counts',\n",
    "    'half_true_counts',\n",
    "    'mostly_true_counts',\n",
    "    'pants_on_fire_counts'  \n",
    "]\n",
    "for col in count_columns:\n",
    "    df[col]=df[col].fillna(0.0)"
   ]
  },
  {
   "cell_type": "code",
   "execution_count": 14,
   "id": "14e9c041-cb6e-4f74-9043-ec600e52e25e",
   "metadata": {},
   "outputs": [],
   "source": [
    "df.drop_duplicates(inplace=True)"
   ]
  },
  {
   "cell_type": "code",
   "execution_count": 15,
   "id": "f4505129-1f41-47ed-95c7-85f07f6e7dc6",
   "metadata": {},
   "outputs": [
    {
     "data": {
      "text/plain": [
       "id                      0\n",
       "label                   0\n",
       "statement               0\n",
       "subject                 0\n",
       "speaker                 0\n",
       "speaker_job_title       0\n",
       "state_info              0\n",
       "party_affiliation       0\n",
       "barely_true_counts      0\n",
       "false_counts            0\n",
       "half_true_counts        0\n",
       "mostly_true_counts      0\n",
       "pants_on_fire_counts    0\n",
       "context                 0\n",
       "binary_label            0\n",
       "dtype: int64"
      ]
     },
     "execution_count": 15,
     "metadata": {},
     "output_type": "execute_result"
    }
   ],
   "source": [
    "df.isnull().sum()"
   ]
  },
  {
   "cell_type": "code",
   "execution_count": 16,
   "id": "7d0f2a93-3b73-4ab5-959f-b7366f0645b9",
   "metadata": {},
   "outputs": [
    {
     "name": "stdout",
     "output_type": "stream",
     "text": [
      "binary_label\n",
      "1    8284\n",
      "0    4507\n",
      "Name: count, dtype: int64\n"
     ]
    }
   ],
   "source": [
    "print(df['binary_label'].value_counts())\n"
   ]
  },
  {
   "cell_type": "code",
   "execution_count": 17,
   "id": "7f3cd9d1-95d3-46dc-8a1d-2f39cc6b3a49",
   "metadata": {},
   "outputs": [
    {
     "data": {
      "image/png": "[encoded data removed]",
      "text/plain": [
       "<Figure size 640x480 with 1 Axes>"
      ]
     },
     "metadata": {},
     "output_type": "display_data"
    }
   ],
   "source": [
    "import seaborn as sns\n",
    "import matplotlib.pyplot as plt\n",
    "\n",
    "sns.countplot(data=df, x='binary_label')\n",
    "plt.title(\"Class Distribution (Fake vs Real)\")\n",
    "plt.xlabel(\"Label (1 = Fake, 0 = Real)\")\n",
    "plt.ylabel(\"Count\")\n",
    "plt.show()"
   ]
  },
  {
   "cell_type": "code",
   "execution_count": 20,
   "id": "eca4386b-a39e-4cd4-bbd7-fcb74b85c1cd",
   "metadata": {},
   "outputs": [
    {
     "data": {
      "image/png": "[encoded data removed]",
      "text/plain": [
       "<Figure size 640x480 with 1 Axes>"
      ]
     },
     "metadata": {},
     "output_type": "display_data"
    },
    {
     "data": {
      "image/png": "[encoded data removed]",
      "text/plain": [
       "<Figure size 640x480 with 1 Axes>"
      ]
     },
     "metadata": {},
     "output_type": "display_data"
    }
   ],
   "source": [
    "df['speaker'].value_counts().head(10).plot(kind='barh')\n",
    "plt.title('Top 10 Most Frequent Speakers')\n",
    "plt.show()\n",
    "\n",
    "df['subject'].value_counts().head(10).plot(kind='bar')\n",
    "plt.title('Top 10 Subjects')\n",
    "plt.xticks(rotation=45)\n",
    "plt.show()"
   ]
  },
  {
   "cell_type": "code",
   "execution_count": 21,
   "id": "15b2788d-dc5a-4413-ac9e-f30c4a5d53ed",
   "metadata": {},
   "outputs": [],
   "source": [
    "from sklearn.feature_extraction.text import TfidfVectorizer\n",
    "\n",
    "tfidf = TfidfVectorizer(stop_words='english', max_features=5000)\n",
    "X = tfidf.fit_transform(df['statement'])\n",
    "y = df['binary_label']\n"
   ]
  },
  {
   "cell_type": "code",
   "execution_count": 22,
   "id": "b494a005-e067-494d-973f-b740454a76ea",
   "metadata": {},
   "outputs": [],
   "source": [
    "from sklearn.model_selection import train_test_split\n",
    "\n",
    "X_train, X_test, y_train, y_test = train_test_split(\n",
    "    X, y, test_size=0.2, random_state=42, stratify=y\n",
    ")\n"
   ]
  },
  {
   "cell_type": "code",
   "execution_count": 23,
   "id": "0e05a3c5-e1df-46e9-b0c6-ab6e3591022d",
   "metadata": {},
   "outputs": [
    {
     "name": "stdout",
     "output_type": "stream",
     "text": [
      "Logistic Regression Results:\n",
      "              precision    recall  f1-score   support\n",
      "\n",
      "           0       0.50      0.20      0.29       902\n",
      "           1       0.67      0.89      0.77      1657\n",
      "\n",
      "    accuracy                           0.65      2559\n",
      "   macro avg       0.59      0.55      0.53      2559\n",
      "weighted avg       0.61      0.65      0.60      2559\n",
      "\n",
      "Accuracy: 0.6483001172332943\n"
     ]
    }
   ],
   "source": [
    "from sklearn.linear_model import LogisticRegression\n",
    "from sklearn.metrics import classification_report, accuracy_score\n",
    "\n",
    "lr = LogisticRegression(max_iter=1000)\n",
    "lr.fit(X_train, y_train)\n",
    "y_pred_lr = lr.predict(X_test)\n",
    "\n",
    "print(\"Logistic Regression Results:\")\n",
    "print(classification_report(y_test, y_pred_lr))\n",
    "print(\"Accuracy:\", accuracy_score(y_test, y_pred_lr))\n"
   ]
  },
  {
   "cell_type": "code",
   "execution_count": 24,
   "id": "a0a293eb-8b9a-4426-9ad0-2d9a234eb7c9",
   "metadata": {},
   "outputs": [
    {
     "name": "stdout",
     "output_type": "stream",
     "text": [
      "Naive Bayes Results:\n",
      "              precision    recall  f1-score   support\n",
      "\n",
      "           0       0.56      0.15      0.24       902\n",
      "           1       0.67      0.94      0.78      1657\n",
      "\n",
      "    accuracy                           0.66      2559\n",
      "   macro avg       0.62      0.54      0.51      2559\n",
      "weighted avg       0.63      0.66      0.59      2559\n",
      "\n",
      "Accuracy: 0.6596326690113326\n"
     ]
    }
   ],
   "source": [
    "from sklearn.naive_bayes import MultinomialNB\n",
    "\n",
    "nb = MultinomialNB()\n",
    "nb.fit(X_train, y_train)\n",
    "y_pred_nb = nb.predict(X_test)\n",
    "\n",
    "print(\"Naive Bayes Results:\")\n",
    "print(classification_report(y_test, y_pred_nb))\n",
    "print(\"Accuracy:\", accuracy_score(y_test, y_pred_nb))\n"
   ]
  },
  {
   "cell_type": "code",
   "execution_count": 26,
   "id": "d443403d-44d8-46ec-adb4-5fedbb5d1acb",
   "metadata": {},
   "outputs": [
    {
     "name": "stdout",
     "output_type": "stream",
     "text": [
      "Random Forest Results:\n",
      "              precision    recall  f1-score   support\n",
      "\n",
      "           0       0.53      0.21      0.30       902\n",
      "           1       0.68      0.89      0.77      1657\n",
      "\n",
      "    accuracy                           0.65      2559\n",
      "   macro avg       0.60      0.55      0.54      2559\n",
      "weighted avg       0.62      0.65      0.61      2559\n",
      "\n",
      "Accuracy: 0.6549433372411098\n"
     ]
    }
   ],
   "source": [
    "from sklearn.ensemble import RandomForestClassifier\n",
    "\n",
    "rf = RandomForestClassifier(n_estimators=100, random_state=42)\n",
    "rf.fit(X_train, y_train)\n",
    "y_pred_rf = rf.predict(X_test)\n",
    "\n",
    "print(\"Random Forest Results:\")\n",
    "print(classification_report(y_test, y_pred_rf))\n",
    "print(\"Accuracy:\", accuracy_score(y_test, y_pred_rf))\n"
   ]
  },
  {
   "cell_type": "code",
   "execution_count": 27,
   "id": "1d40372f-7c55-4da9-9142-3cf4037435c7",
   "metadata": {},
   "outputs": [
    {
     "name": "stdout",
     "output_type": "stream",
     "text": [
      "\n",
      " Accuracy Comparison:\n",
      "Logistic Regression: 0.6483001172332943\n",
      "Naive Bayes: 0.6596326690113326\n",
      "Random Forest: 0.6549433372411098\n"
     ]
    }
   ],
   "source": [
    "print(\"\\n Accuracy Comparison:\")\n",
    "print(\"Logistic Regression:\", accuracy_score(y_test, y_pred_lr))\n",
    "print(\"Naive Bayes:\", accuracy_score(y_test, y_pred_nb))\n",
    "print(\"Random Forest:\", accuracy_score(y_test, y_pred_rf))\n"
   ]
  },
  {
   "cell_type": "code",
   "execution_count": 35,
   "id": "9fdd07bf-d582-43e6-8631-69a3aaef3668",
   "metadata": {},
   "outputs": [
    {
     "data": {
      "image/png": "[encoded data removed]",
      "text/plain": [
       "<Figure size 800x500 with 1 Axes>"
      ]
     },
     "metadata": {},
     "output_type": "display_data"
    }
   ],
   "source": [
    "import matplotlib.pyplot as plt\n",
    "from sklearn.metrics import accuracy_score\n",
    "\n",
    "\n",
    "acc_logistic = accuracy_score(y_test, y_pred_lr)\n",
    "acc_nb = accuracy_score(y_test, y_pred_nb)\n",
    "acc_rf = accuracy_score(y_test, y_pred_rf)\n",
    "\n",
    "\n",
    "models = ['Logistic Regression', 'Naive Bayes', 'Random Forest']\n",
    "accuracies = [acc_logistic, acc_nb, acc_rf]\n",
    "\n",
    "\n",
    "plt.figure(figsize=(8, 5))\n",
    "bars = plt.bar(models, accuracies, color=['skyblue', 'salmon', 'limegreen'])\n",
    "plt.ylim(0.5, 1.0)\n",
    "plt.ylabel('Accuracy')\n",
    "plt.title('Model Accuracy Comparison')\n",
    "\n",
    "\n",
    "for bar in bars:\n",
    "    yval = bar.get_height()\n",
    "    plt.text(bar.get_x() + bar.get_width()/2, yval + 0.01, f'{yval:.2f}', ha='center', fontsize=12)\n",
    "\n",
    "plt.grid(axis='y', linestyle='--', alpha=0.7)\n",
    "plt.tight_layout()\n",
    "plt.show()\n"
   ]
  },
  {
   "cell_type": "code",
   "execution_count": null,
   "id": "820e174b-2806-4da4-a896-4bc93e735358",
   "metadata": {},
   "outputs": [],
   "source": []
  },
  {
   "cell_type": "code",
   "execution_count": null,
   "id": "0a215b42-1716-4f91-8873-0511aa0db1bf",
   "metadata": {},
   "outputs": [],
   "source": []
  }
 ],
 "metadata": {
  "kernelspec": {
   "display_name": "Python 3 (ipykernel)",
   "language": "python",
   "name": "python3"
  },
  "language_info": {
   "codemirror_mode": {
    "name": "ipython",
    "version": 3
   },
   "file_extension": ".py",
   "mimetype": "text/x-python",
   "name": "python",
   "nbconvert_exporter": "python",
   "pygments_lexer": "ipython3",
   "version": "3.13.3"
  }
 },
 "nbformat": 4,
 "nbformat_minor": 5
}
